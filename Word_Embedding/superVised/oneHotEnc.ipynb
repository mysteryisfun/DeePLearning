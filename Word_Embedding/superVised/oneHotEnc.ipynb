{
 "cells": [
  {
   "cell_type": "code",
   "execution_count": 2,
   "metadata": {},
   "outputs": [],
   "source": [
    "import numpy as np\n",
    "from tensorflow.keras.preprocessing.text import one_hot\n",
    "from tensorflow.keras.preprocessing.sequence import pad_sequences\n",
    "from tensorflow.keras.models import Sequential\n",
    "from tensorflow.keras.layers import Dense, Embedding, Flatten\n"
   ]
  },
  {
   "cell_type": "code",
   "execution_count": 3,
   "metadata": {},
   "outputs": [],
   "source": [
    "reviews = ['nice food',\n",
    "        'amazing restaurant',\n",
    "        'too good',\n",
    "        'just loved it!',\n",
    "        'will go again',\n",
    "        'horrible food',\n",
    "        'never go there',\n",
    "        'poor service',\n",
    "        'poor quality',\n",
    "        'needs improvement']\n",
    "sentiment = np.array([1,1,1,1,1,0,0,0,0,0])\n"
   ]
  },
  {
   "cell_type": "code",
   "execution_count": null,
   "metadata": {},
   "outputs": [
    {
     "data": {
      "text/plain": [
       "[7, 21]"
      ]
     },
     "execution_count": 4,
     "metadata": {},
     "output_type": "execute_result"
    }
   ],
   "source": [
    "one_hot(\"amzing resaurant\",30)#internally its converted to oneHotEnc"
   ]
  },
  {
   "cell_type": "code",
   "execution_count": 5,
   "metadata": {},
   "outputs": [
    {
     "data": {
      "text/plain": [
       "[[7, 10],\n",
       " [29, 3],\n",
       " [27, 21],\n",
       " [26, 29, 9],\n",
       " [21, 11, 2],\n",
       " [2, 10],\n",
       " [13, 11, 6],\n",
       " [17, 8],\n",
       " [17, 2],\n",
       " [2, 3]]"
      ]
     },
     "execution_count": 5,
     "metadata": {},
     "output_type": "execute_result"
    }
   ],
   "source": [
    "vocab_size=30\n",
    "encoded_reviews=[one_hot(d,vocab_size) for d in reviews]\n",
    "encoded_reviews"
   ]
  },
  {
   "cell_type": "code",
   "execution_count": 6,
   "metadata": {},
   "outputs": [
    {
     "data": {
      "text/plain": [
       "array([[ 7, 10,  0],\n",
       "       [29,  3,  0],\n",
       "       [27, 21,  0],\n",
       "       [26, 29,  9],\n",
       "       [21, 11,  2],\n",
       "       [ 2, 10,  0],\n",
       "       [13, 11,  6],\n",
       "       [17,  8,  0],\n",
       "       [17,  2,  0],\n",
       "       [ 2,  3,  0]], dtype=int32)"
      ]
     },
     "execution_count": 6,
     "metadata": {},
     "output_type": "execute_result"
    }
   ],
   "source": [
    "max_len=3\n",
    "padded_reviews=pad_sequences(encoded_reviews,maxlen=max_len,padding='post')\n",
    "padded_reviews"
   ]
  },
  {
   "cell_type": "code",
   "execution_count": 10,
   "metadata": {},
   "outputs": [
    {
     "name": "stderr",
     "output_type": "stream",
     "text": [
      "c:\\WAHTEVER ELSE\\GEEK STUFF\\python\\Lib\\site-packages\\keras\\src\\layers\\core\\embedding.py:90: UserWarning: Argument `input_length` is deprecated. Just remove it.\n",
      "  warnings.warn(\n"
     ]
    }
   ],
   "source": [
    "embed_vector_size=4\n",
    "model=Sequential()\n",
    "model.add(Embedding(vocab_size,embed_vector_size,input_length=max_len,name=\"embedding\"))\n",
    "model.add(Flatten())\n",
    "model.add(Dense(1,activation='sigmoid'))"
   ]
  },
  {
   "cell_type": "code",
   "execution_count": 30,
   "metadata": {},
   "outputs": [],
   "source": [
    "x=padded_reviews\n",
    "y=sentiment\n",
    "model.compile(optimizer='adam',loss='binary_crossentropy',metrics=['accuracy'])\n"
   ]
  },
  {
   "cell_type": "code",
   "execution_count": 14,
   "metadata": {},
   "outputs": [
    {
     "data": {
      "text/plain": [
       "<keras.src.callbacks.history.History at 0x24bfa8ca720>"
      ]
     },
     "execution_count": 14,
     "metadata": {},
     "output_type": "execute_result"
    }
   ],
   "source": [
    "model.fit(x,y,epochs=50,verbose=0)"
   ]
  },
  {
   "cell_type": "code",
   "execution_count": 17,
   "metadata": {},
   "outputs": [
    {
     "name": "stdout",
     "output_type": "stream",
     "text": [
      "\u001b[1m1/1\u001b[0m \u001b[32m━━━━━━━━━━━━━━━━━━━━\u001b[0m\u001b[37m\u001b[0m \u001b[1m0s\u001b[0m 32ms/step - accuracy: 1.0000 - loss: 0.6363\n"
     ]
    },
    {
     "data": {
      "text/plain": [
       "1.0"
      ]
     },
     "execution_count": 17,
     "metadata": {},
     "output_type": "execute_result"
    }
   ],
   "source": [
    "loss,accuracy=model.evaluate(x,y)\n",
    "accuracy"
   ]
  },
  {
   "cell_type": "code",
   "execution_count": 24,
   "metadata": {},
   "outputs": [],
   "source": [
    "embd_ley=model.get_layer(name='embedding')"
   ]
  },
  {
   "cell_type": "code",
   "execution_count": 27,
   "metadata": {},
   "outputs": [
    {
     "data": {
      "text/plain": [
       "[array([[-5.5574801e-02, -1.7595313e-02, -1.7844139e-02,  5.2718744e-02],\n",
       "        [-3.5489775e-02, -4.8100006e-02, -1.9162297e-02, -2.5569964e-02],\n",
       "        [-9.1613688e-02,  2.5652684e-02,  2.3325840e-02, -6.1229981e-02],\n",
       "        [ 2.0878209e-02,  1.6082311e-05, -3.9344154e-02,  8.5192379e-03],\n",
       "        [-4.8591912e-02, -3.4210697e-02,  1.5216235e-02,  7.7108517e-03],\n",
       "        [ 4.9738288e-03,  2.4697091e-02, -2.9199673e-02,  4.1593883e-02],\n",
       "        [-7.3524408e-02, -6.3986615e-03, -8.1224412e-02,  1.4173259e-03],\n",
       "        [ 2.5066795e-02, -5.4391168e-02,  6.9226734e-02,  2.8982140e-02],\n",
       "        [ 3.0892063e-02, -2.5133243e-02, -2.3035506e-02, -1.3323314e-03],\n",
       "        [ 4.0385604e-02,  6.7271575e-02,  4.4221360e-02, -5.6870036e-02],\n",
       "        [-2.0198178e-02,  2.6242699e-02,  2.1699483e-02, -3.6080470e-03],\n",
       "        [-2.9945198e-02, -2.5520828e-02,  1.9609176e-02, -3.2687575e-02],\n",
       "        [ 4.2731199e-02, -1.6428042e-02, -9.0744346e-04,  4.9226690e-02],\n",
       "        [-1.1569626e-02,  1.8428713e-02, -1.5039706e-02, -8.2346953e-02],\n",
       "        [ 3.3083525e-02,  3.5972487e-02, -1.9482041e-02,  4.8522059e-02],\n",
       "        [ 1.5130732e-02, -4.9425460e-02,  7.6622739e-03, -3.7743673e-03],\n",
       "        [-1.3978183e-02, -3.8450886e-02, -4.1069649e-02,  2.4467930e-03],\n",
       "        [-8.8054538e-02,  1.1236616e-01, -1.1336708e-01, -9.2421174e-02],\n",
       "        [-3.3285618e-02, -3.6444329e-02,  2.6931737e-02, -2.6489079e-02],\n",
       "        [ 4.4052694e-02, -1.8769218e-02, -1.6183712e-02, -1.2017466e-02],\n",
       "        [-2.1275569e-02, -1.7957021e-02,  2.5813494e-02, -4.9937215e-02],\n",
       "        [ 9.5829800e-02, -5.5267476e-02,  5.3414874e-02, -2.8321259e-02],\n",
       "        [ 4.8201792e-03, -1.1456452e-02, -1.9045472e-02,  2.8597005e-03],\n",
       "        [-3.7649870e-02, -4.1127920e-02, -1.5089534e-02,  3.4972932e-02],\n",
       "        [ 3.7625525e-02,  1.1632763e-02, -2.3891676e-02, -4.8810042e-02],\n",
       "        [ 2.9092800e-02,  2.8271843e-02,  3.6279369e-02,  2.4793301e-02],\n",
       "        [ 8.1911571e-02, -3.5409018e-02,  8.9368761e-02,  6.8664551e-02],\n",
       "        [ 2.5815627e-02, -7.7847503e-02,  4.0046107e-02,  4.6904940e-02],\n",
       "        [-8.5519329e-03, -2.3274017e-02,  3.8386632e-02,  3.2257307e-02],\n",
       "        [ 5.0071023e-02, -4.1304518e-02,  1.0108156e-01, -4.2097014e-03]],\n",
       "       dtype=float32)]"
      ]
     },
     "execution_count": 27,
     "metadata": {},
     "output_type": "execute_result"
    }
   ],
   "source": [
    "embd_ley.get_weights()"
   ]
  },
  {
   "cell_type": "code",
   "execution_count": 29,
   "metadata": {},
   "outputs": [
    {
     "data": {
      "text/plain": [
       "array([-0.0555748 , -0.01759531, -0.01784414,  0.05271874], dtype=float32)"
      ]
     },
     "execution_count": 29,
     "metadata": {},
     "output_type": "execute_result"
    }
   ],
   "source": [
    "weights=embd_ley.get_weights()[0]\n",
    "weights[0]"
   ]
  },
  {
   "cell_type": "code",
   "execution_count": null,
   "metadata": {},
   "outputs": [],
   "source": []
  }
 ],
 "metadata": {
  "kernelspec": {
   "display_name": "Python 3",
   "language": "python",
   "name": "python3"
  },
  "language_info": {
   "codemirror_mode": {
    "name": "ipython",
    "version": 3
   },
   "file_extension": ".py",
   "mimetype": "text/x-python",
   "name": "python",
   "nbconvert_exporter": "python",
   "pygments_lexer": "ipython3",
   "version": "3.12.5"
  }
 },
 "nbformat": 4,
 "nbformat_minor": 2
}
